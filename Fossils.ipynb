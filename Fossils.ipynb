{
 "cells": [
  {
   "cell_type": "code",
   "execution_count": 1,
   "id": "1a11ab1f",
   "metadata": {},
   "outputs": [],
   "source": [
    "import requests\n",
    "import pandas as pd \n",
    "import json\n",
    "\n",
    "# Target URL\n",
    "target_url = ('http://acnhapi.com/v1/fossils')"
   ]
  },
  {
   "cell_type": "code",
   "execution_count": 2,
   "id": "aec54470",
   "metadata": {},
   "outputs": [
    {
     "data": {
      "text/plain": [
       "dict"
      ]
     },
     "execution_count": 2,
     "metadata": {},
     "output_type": "execute_result"
    }
   ],
   "source": [
    "# Request the data from acnh api\n",
    "fossils_json = requests.get(target_url).json()\n",
    "\n",
    "# Test Type for successful request\n",
    "type(fossils_json)"
   ]
  },
  {
   "cell_type": "code",
   "execution_count": 3,
   "id": "f2278aad",
   "metadata": {},
   "outputs": [
    {
     "data": {
      "text/plain": [
       "dict_keys(['acanthostega', 'amber', 'ammonite', 'ankylo_skull', 'ankylo_tail', 'ankylo_torso', 'anomalocaris', 'archaeopteryx', 'archelon_skull', 'archelon_tail', 'australopith', 'brachio_chest', 'brachio_pelvis', 'brachio_skull', 'brachio_tail', 'coprolite', 'deinony_tail', 'deinony_torso', 'dimetrodon_skull', 'dimetrodon_torso', 'dinosaur_track', 'diplo_chest', 'diplo_neck', 'diplo_pelvis', 'diplo_skull', 'diplo_tail', 'diplo_tail_tip', 'dunkleosteus', 'eusthenopteron', 'iguanodon_skull', 'iguanodon_tail', 'iguanodon_torso', 'juramaia', 'left_megalo_side', 'left_ptera_wing', 'left_quetzal_wing', 'mammoth_skull', 'mammoth_torso', 'megacero_skull', 'megacero_tail', 'megacero_torso', 'myllokunmingia', 'ophthalmo_skull', 'ophthalmo_torso', 'pachy_skull', 'pachy_tail', 'parasaur_skull', 'parasaur_tail', 'parasaur_torso', 'plesio_skull', 'plesio_tail', 'plesio_torso', 'ptera_body', 'quetzal_torso', 'right_megalo_side', 'right_ptera_wing', 'right_quetzal_wing', 'sabertooth_skull', 'sabertooth_tail', 'shark-tooth_pattern', 'spino_skull', 'spino_tail', 'spino_torso', 'stego_skull', 'stego_tail', 'stego_torso', 'trex_skull', 'trex_tail', 'trex_torso', 'tricera_skull', 'tricera_tail', 'tricera_torso', 'trilobite'])"
      ]
     },
     "execution_count": 3,
     "metadata": {},
     "output_type": "execute_result"
    }
   ],
   "source": [
    "# Explore the data\n",
    "fossils_json.keys()"
   ]
  },
  {
   "cell_type": "code",
   "execution_count": 7,
   "id": "1fa566fc",
   "metadata": {},
   "outputs": [
    {
     "data": {
      "text/plain": [
       "73"
      ]
     },
     "execution_count": 7,
     "metadata": {},
     "output_type": "execute_result"
    }
   ],
   "source": [
    "# How many Fossils?\n",
    "len(fossils_json.keys())"
   ]
  },
  {
   "cell_type": "code",
   "execution_count": 8,
   "id": "ecfed39c",
   "metadata": {},
   "outputs": [
    {
     "data": {
      "text/plain": [
       "{'file-name': 'amber',\n",
       " 'name': {'name-USen': 'amber',\n",
       "  'name-EUen': 'amber',\n",
       "  'name-EUde': 'Bernstein',\n",
       "  'name-EUes': 'ámbar',\n",
       "  'name-USes': 'ámbar',\n",
       "  'name-EUfr': 'ambre',\n",
       "  'name-USfr': 'ambre',\n",
       "  'name-EUit': 'ambra',\n",
       "  'name-EUnl': 'barnsteen',\n",
       "  'name-CNzh': '琥珀',\n",
       "  'name-TWzh': '琥珀',\n",
       "  'name-JPja': 'コハク',\n",
       "  'name-KRko': '호박',\n",
       "  'name-EUru': 'янтарь'},\n",
       " 'price': 1200,\n",
       " 'museum-phrase': 'Amber is formed from the sap of ancient trees that hardened over time. Because of its beauty, it has often been traded and used as jewelry throughout history. However, individual specimens may contain ancient plants or insects trapped inside them! These are valuable resources for learning about ancient eras, such as when the dinosaurs roamed... And this is why they are sometimes displayed in certain...ahem... exceptional museums! Like mine.',\n",
       " 'image_uri': 'https://acnhapi.com/v1/images/fossils/amber',\n",
       " 'part-of': 'amber'}"
      ]
     },
     "execution_count": 8,
     "metadata": {},
     "output_type": "execute_result"
    }
   ],
   "source": [
    "# What's in each fossil entry?\n",
    "fossils_json['amber']"
   ]
  },
  {
   "cell_type": "code",
   "execution_count": 12,
   "id": "22740b3f",
   "metadata": {},
   "outputs": [],
   "source": [
    "# Build a fossil price df\n",
    "fossilPriceDict = {}\n",
    "for fossil in fossils_json:\n",
    "    fossilPriceDict[fossil] = {'price': fossils_json[fossil]['price']}\n",
    "    \n",
    "fossilPrice_df = pd.DataFrame(fossilPriceDict).swapaxes('index', 'columns')"
   ]
  },
  {
   "cell_type": "code",
   "execution_count": 14,
   "id": "9c3e11fb",
   "metadata": {
    "scrolled": false
   },
   "outputs": [
    {
     "data": {
      "text/html": [
       "<div>\n",
       "<style scoped>\n",
       "    .dataframe tbody tr th:only-of-type {\n",
       "        vertical-align: middle;\n",
       "    }\n",
       "\n",
       "    .dataframe tbody tr th {\n",
       "        vertical-align: top;\n",
       "    }\n",
       "\n",
       "    .dataframe thead th {\n",
       "        text-align: right;\n",
       "    }\n",
       "</style>\n",
       "<table border=\"1\" class=\"dataframe\">\n",
       "  <thead>\n",
       "    <tr style=\"text-align: right;\">\n",
       "      <th></th>\n",
       "      <th>price</th>\n",
       "    </tr>\n",
       "  </thead>\n",
       "  <tbody>\n",
       "    <tr>\n",
       "      <th>trex_skull</th>\n",
       "      <td>6000</td>\n",
       "    </tr>\n",
       "    <tr>\n",
       "      <th>brachio_skull</th>\n",
       "      <td>6000</td>\n",
       "    </tr>\n",
       "    <tr>\n",
       "      <th>tricera_skull</th>\n",
       "      <td>5500</td>\n",
       "    </tr>\n",
       "    <tr>\n",
       "      <th>dimetrodon_skull</th>\n",
       "      <td>5500</td>\n",
       "    </tr>\n",
       "    <tr>\n",
       "      <th>right_megalo_side</th>\n",
       "      <td>5500</td>\n",
       "    </tr>\n",
       "    <tr>\n",
       "      <th>...</th>\n",
       "      <td>...</td>\n",
       "    </tr>\n",
       "    <tr>\n",
       "      <th>coprolite</th>\n",
       "      <td>1100</td>\n",
       "    </tr>\n",
       "    <tr>\n",
       "      <th>australopith</th>\n",
       "      <td>1100</td>\n",
       "    </tr>\n",
       "    <tr>\n",
       "      <th>ammonite</th>\n",
       "      <td>1100</td>\n",
       "    </tr>\n",
       "    <tr>\n",
       "      <th>shark-tooth_pattern</th>\n",
       "      <td>1000</td>\n",
       "    </tr>\n",
       "    <tr>\n",
       "      <th>dinosaur_track</th>\n",
       "      <td>1000</td>\n",
       "    </tr>\n",
       "  </tbody>\n",
       "</table>\n",
       "<p>73 rows × 1 columns</p>\n",
       "</div>"
      ],
      "text/plain": [
       "                     price\n",
       "trex_skull            6000\n",
       "brachio_skull         6000\n",
       "tricera_skull         5500\n",
       "dimetrodon_skull      5500\n",
       "right_megalo_side     5500\n",
       "...                    ...\n",
       "coprolite             1100\n",
       "australopith          1100\n",
       "ammonite              1100\n",
       "shark-tooth_pattern   1000\n",
       "dinosaur_track        1000\n",
       "\n",
       "[73 rows x 1 columns]"
      ]
     },
     "execution_count": 14,
     "metadata": {},
     "output_type": "execute_result"
    }
   ],
   "source": [
    "# Display the df sorted\n",
    "fossilPrice_df.sort_values('price', ascending=False)"
   ]
  },
  {
   "cell_type": "code",
   "execution_count": 15,
   "id": "290ac72f",
   "metadata": {},
   "outputs": [
    {
     "data": {
      "text/plain": [
       "3563.013698630137"
      ]
     },
     "execution_count": 15,
     "metadata": {},
     "output_type": "execute_result"
    }
   ],
   "source": [
    "# Average Fossil Price\n",
    "fossilPrice_df['price'].mean()"
   ]
  },
  {
   "cell_type": "code",
   "execution_count": null,
   "id": "a8ac3b2d",
   "metadata": {},
   "outputs": [],
   "source": []
  }
 ],
 "metadata": {
  "kernelspec": {
   "display_name": "PythonData",
   "language": "python",
   "name": "pythondata"
  },
  "language_info": {
   "codemirror_mode": {
    "name": "ipython",
    "version": 3
   },
   "file_extension": ".py",
   "mimetype": "text/x-python",
   "name": "python",
   "nbconvert_exporter": "python",
   "pygments_lexer": "ipython3",
   "version": "3.7.11"
  }
 },
 "nbformat": 4,
 "nbformat_minor": 5
}
